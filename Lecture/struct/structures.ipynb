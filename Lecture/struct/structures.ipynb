{
 "cells": [
  {
   "cell_type": "markdown",
   "id": "fc632fba-2eef-4841-aaac-835aceba3db2",
   "metadata": {},
   "source": [
    "# Week 06: Structures Part 1"
   ]
  },
  {
   "cell_type": "markdown",
   "id": "f1c1c096",
   "metadata": {},
   "source": [
    "int score_1, score_2, ......;\n",
    "int scores[73];\n",
    "// 1, 2, 3, 4\n",
    "scores[6];\n",
    "\n",
    "================================================\n",
    "\n",
    "int locker[4][10];"
   ]
  },
  {
   "cell_type": "markdown",
   "id": "cbda3a83-7d45-4380-b2be-23da506709b4",
   "metadata": {},
   "source": [
    "### Structures are C’s way of grouping collections of data into a single manageable unit.\n",
    "- This is also the fundamental element of C upon which most of C++ is built (i.e., classes)\n",
    "- Similar to Java's classes.\n",
    "\n",
    "### An example:\n",
    "\n",
    "- **Defining a structure type:**\n",
    "```c\n",
    "struct coord { //struct name\n",
    "    int x;  // member of struct\n",
    "    int y;  \n",
    "};\n",
    "```\n",
    "\n",
    "- This defines a new type struct coord. No variable is actually declared or generated."
   ]
  },
  {
   "cell_type": "markdown",
   "id": "5afe1ece-13fa-4328-9eed-4ff773191a3d",
   "metadata": {},
   "source": [
    "![alt text](./struct-coord.png \"Coordination\")"
   ]
  },
  {
   "cell_type": "code",
   "execution_count": 10,
   "id": "fb7ff005-5c70-490f-adf5-cb4d34acca08",
   "metadata": {},
   "outputs": [],
   "source": [
    "#include <stdio.h>\n",
    "\n",
    "struct coord {\n",
    "    int x;\n",
    "    int y;\n",
    "};\n",
    "\n",
    "int main()\n",
    "{\n",
    "    // int x1, y1;\n",
    "    // int x2, y2;\n",
    "    // int x3, y3;\n",
    "\n",
    "    struct coord c1, c2, c3;\n",
    "    return 0;\n",
    "}"
   ]
  },
  {
   "cell_type": "code",
   "execution_count": null,
   "id": "6e67e811-a50f-4931-a042-e2a10425bcaa",
   "metadata": {},
   "outputs": [],
   "source": [
    "# KAHOOT 2-3"
   ]
  },
  {
   "cell_type": "markdown",
   "id": "c6164e69-73a8-4e37-817b-da91167be77b",
   "metadata": {},
   "source": [
    "### Define struct variables:\n",
    "```c\n",
    "struct coord {\n",
    "    int x,y;\n",
    "} first, second; u\n",
    "```\n",
    "\n",
    "### Another Approach:\n",
    "```c\n",
    "struct coord {\n",
    "    int x,y;\n",
    "}; \n",
    "...............\n",
    "\n",
    "struct coord first, second; \n",
    "struct coord third;\n",
    "```"
   ]
  },
  {
   "cell_type": "markdown",
   "id": "9fa707c1-1481-4c4d-b654-9a70bc90f885",
   "metadata": {},
   "source": [
    "### You can even use a typedef if your don't like having to use the word “struct”\n",
    "```c\n",
    "typedef struct coord\n",
    "{\n",
    "    int x, y;\n",
    "} Coordinate;\n",
    "```\n",
    "### In some compilers, and all C++ compilers, you can usually simply say just:\n",
    "```c\n",
    "Coordinate first, second;\n",
    "```"
   ]
  },
  {
   "cell_type": "code",
   "execution_count": null,
   "id": "16e5238c-147f-4bce-9d00-0bf64b14c869",
   "metadata": {},
   "outputs": [],
   "source": [
    "# KAHOOT 4,5,6"
   ]
  },
  {
   "cell_type": "markdown",
   "id": "c3cd011c-d7ab-42f1-9f65-9c91ad8957d0",
   "metadata": {},
   "source": [
    "### Access structure variables by the dot (.) operator u Generic form:\n",
    "```c\n",
    "structure_var.member_name\n",
    "```\n",
    "### For example:\n",
    "```c\n",
    "first.x = 50 ;\n",
    "second.y = 100;\n",
    "```\n",
    "### These member names are like the public data members of a class in Java (or C++).\n",
    "- No equivalent to function members/methods.\n",
    "\n",
    "### struct_var.member_name can be used anywhere a variable can be used:\n",
    "```c\n",
    "- printf (\"%d , %d\", second.x , second.y );\n",
    "\n",
    "- scanf(\"%d, %d\", &first.x, &first.y);\n",
    "```"
   ]
  },
  {
   "cell_type": "code",
   "execution_count": null,
   "id": "3a661d68-593f-4572-809c-5ee1681d7250",
   "metadata": {},
   "outputs": [],
   "source": [
    "# KAHOOT 7"
   ]
  },
  {
   "cell_type": "markdown",
   "id": "e4a4c815-b71e-44ab-960e-47b07c5b9c6b",
   "metadata": {},
   "source": [
    "### You can assign structures as a unit with =\n",
    "```c\n",
    "first = second;\n",
    "```\n",
    "instead of writing:\n",
    "```c\n",
    "first.x = second.x; \n",
    "first.y = second.y ;\n",
    "```\n",
    "### Although the saving here is not great\n",
    "\n",
    "- It will reduce the likelihood of errors and\n",
    "- Is more convenient with large structures\n",
    "\n",
    "### This is different from Java where variables are simply references to objects.\n",
    "```c\n",
    "first = second;\n",
    "```\n",
    "makes first and second refer to the same object."
   ]
  },
  {
   "cell_type": "code",
   "execution_count": null,
   "id": "ab6b55b0-6c7e-4092-b90c-ba37dda6053f",
   "metadata": {},
   "outputs": [],
   "source": [
    "# KAHOOT 8"
   ]
  },
  {
   "cell_type": "markdown",
   "id": "8b05c7c4-a09d-41c8-b0c0-141d451ad3be",
   "metadata": {},
   "source": [
    "## Structures Containing Structures\n",
    "\n",
    "### Any “type” of thing can be a member of a structure. u We can use the coord struct to define a rectangle\n",
    "```c\n",
    "struct rectangle { \n",
    "    struct coord topleft; \n",
    "    struct coord bottomrt; \n",
    "};\n",
    "```\n",
    "\n",
    "###  This describes a rectangle by using the two points necessary:\n",
    "```c\n",
    "struct rectangle mybox ;\n",
    "```\n",
    "\n",
    "###  Initializing the points:\n",
    "```c\n",
    "mybox.topleft.x = 0; \n",
    "mybox.topleft.y = 10; \n",
    "mybox.bottomrt.x = 100; \n",
    "mybox.bottomrt.y = 200 ;\n",
    "```\n",
    "\n",
    "![alt text](./rect2.png \"Rectangle\")"
   ]
  },
  {
   "cell_type": "markdown",
   "id": "69e6f0e7-f4b6-4c03-bab9-a3e0d22c9032",
   "metadata": {},
   "source": [
    "## An Example\n",
    "\n",
    "```c\n",
    "#include <stdio.h> \n",
    "\n",
    "struct coord {\n",
    "    int x;\n",
    "    int y; \n",
    "}; \n",
    "\n",
    "struct rectangle {\n",
    "    struct coord topleft;\n",
    "    struct coord bottomrt; \n",
    "};\n",
    "\n",
    "\n",
    "int main () {\n",
    "    int length, width; \n",
    "    long area; \n",
    "    struct rectangle mybox; \n",
    "    mybox.topleft.x = 0; \n",
    "    mybox.topleft.y = 0; \n",
    "    mybox.bottomrt.x = 100; \n",
    "    mybox.bottomrt.y = 50; \n",
    "    \n",
    "    width = mybox.bottomrt.x - mybox.topleft.x; \n",
    "    length = mybox.bottomrt.y - mybox.topleft.y; \n",
    "    \n",
    "    area = width * length; \n",
    "    printf (\"The area is %ld units.\\n\", area);\n",
    "}\n",
    "```"
   ]
  },
  {
   "cell_type": "code",
   "execution_count": null,
   "id": "20968e20-3063-4e63-9428-d712c10783c3",
   "metadata": {},
   "outputs": [],
   "source": [
    "# KAHOOT 9,10"
   ]
  },
  {
   "cell_type": "markdown",
   "id": "067797c2-345e-4c65-af69-1d171be45a00",
   "metadata": {},
   "source": [
    "## Structures Containing Arrays\n",
    "- Arrays within structures are the same as any other member element.\n",
    "\n",
    "- For example:\n",
    "\n",
    "```c\n",
    "struct record {\n",
    "    float x; \n",
    "    char y[5]; \n",
    "};\n",
    "```\n",
    "\n",
    "- Logical organization:\n",
    "  \n",
    "![alt text](./struct-of-array.png \"Structure of Array\")\n"
   ]
  },
  {
   "cell_type": "markdown",
   "id": "663b0d5b-5b30-4b25-a98b-326b4bd17075",
   "metadata": {},
   "source": [
    "## An Example\n",
    "```c\n",
    "#include <stdio.h> \n",
    "struct data { \n",
    "    float amount; \n",
    "    char fname[30]; \n",
    "    char lname[30]; \n",
    "} rec; \n",
    "\n",
    "int main () { \n",
    "    struct data rec; \n",
    "    printf (\"Enter the donor's first and last names, \\n\"); \n",
    "    printf (\"separated by a space: \"); \n",
    "    scanf (\" %s %s\", rec.fname, rec.lname); \n",
    "    printf (\"\\nEnter the donation amount: \"); scanf (\"%f\", &rec.amount); \n",
    "    printf (\"\\nDonor %s %s gave $%.2f.\\n\", rec.fname,rec.lname,rec.amount);\n",
    "}\n",
    "```"
   ]
  },
  {
   "cell_type": "markdown",
   "id": "091c829c-a7f0-4385-b7a9-5db176a3c95d",
   "metadata": {},
   "source": [
    "## Arrays of Structures\n",
    "- The converse of a structure with arrays:\n",
    "- Example:\n",
    "```c\n",
    "struct entry { \n",
    "    char fname[10]; \n",
    "    char lname[12]; \n",
    "    char phone[8]; \n",
    "}; \n",
    "\n",
    "struct entry list [1000];\n",
    "```\n",
    "- This creates a list of 1000 identical entry(s).\n",
    "- Assignments:\n",
    "```c\n",
    "list [1] = list[6];\n",
    "strcpy (list[1].phone, list[6].phone);\n",
    "list[6].phone[1] = list[3].phone[4];\n",
    "```"
   ]
  },
  {
   "cell_type": "code",
   "execution_count": 30,
   "id": "df547b97-c7fb-4818-acff-40d531a46139",
   "metadata": {},
   "outputs": [],
   "source": [
    "#include <stdio.h> \n",
    "#include <string.h>\n",
    "\n",
    "struct entry { \n",
    "    char fname[10]; \n",
    "    char lname[12]; \n",
    "    char phone[8]; \n",
    "}; \n",
    "\n",
    "int main(){\n",
    "    struct entry list[30];\n",
    "    \n",
    "    list[1] = list[6];\n",
    "    strcpy (list[1].phone, list[6].phone);\n",
    "    list[6].phone[1] = list[3].phone[4];\n",
    "}"
   ]
  },
  {
   "cell_type": "markdown",
   "id": "3774b1f6-f4e0-4e3f-9dc7-668c70121595",
   "metadata": {},
   "source": [
    "## An Example\n",
    "\n",
    "```c\n",
    "#include <stdio.h>\n",
    "struct entry\n",
    "{\n",
    "    char fname[20];\n",
    "    char lname[20];\n",
    "    char phone[10];\n",
    "};\n",
    "\n",
    "int main()\n",
    "{\n",
    "    struct entry list[4];\n",
    "    int i;\n",
    "    for (i = 0; i < 4; i++)\n",
    "    {\n",
    "        printf(\"\\nEnter first name: \");\n",
    "        scanf(\"%s\", list[i].fname);\n",
    "        printf(\"Enter last name: \");\n",
    "        scanf(\"%s\", list[i].lname);\n",
    "        printf(\"Enter phone in 123-4567 format: \");\n",
    "        scanf(\"%s\", list[i].phone);\n",
    "    }\n",
    "    \n",
    "    printf(\"\\n\\n\");\n",
    "\n",
    "    for (i = 0; i < 4; i++)\n",
    "    {\n",
    "        printf(\"Name: %s %s\", list[i].fname, list[i].lname);\n",
    "        printf(\"\\t\\tPhone: %s\\n\", list[i].phone);\n",
    "    }\n",
    "}\n",
    "```"
   ]
  },
  {
   "cell_type": "markdown",
   "id": "d25a276c-b9f1-47b1-8667-f40c2cc27850",
   "metadata": {},
   "source": [
    "## Initializing Structures\n",
    "\n",
    "### - Simple example:\n",
    "```c\n",
    "struct sale { \n",
    "    char customer[20]; \n",
    "    char item[20]; \n",
    "    int amount; \n",
    "};\n",
    "\n",
    "struct sale mysale = { \n",
    "    \"Acme Industries\", \n",
    "    \"Zorgle blaster\", \n",
    "    1000 \n",
    "};\n",
    "```\n",
    "\n",
    "### - Structures within structures:\n",
    "```c\n",
    "struct customer\n",
    "{\n",
    "    char firm[20];\n",
    "    char contact[25];\n",
    "};\n",
    "struct sale\n",
    "{\n",
    "    struct customer buyer;\n",
    "    char item[20];\n",
    "    int amount;\n",
    "} mysale = {{\"Acme Industries\", \"George Adams\"},\n",
    "            \"Zorgle Blaster\",\n",
    "            1000};\n",
    "```\n",
    "\n",
    "### - Arrays of structures\n",
    "```c\n",
    "struct customer\n",
    "{\n",
    "    char firm[20];\n",
    "    char contact[25];\n",
    "};\n",
    "struct sale\n",
    "{\n",
    "    struct customer buyer;\n",
    "    char item[20];\n",
    "    int amount;\n",
    "};\n",
    "\n",
    "struct sale y1990[100] = {\n",
    "    {{\"Acme Industries\", \"George Adams\"}, \"Left-handed Idiots\", 1000},\n",
    "    {{\"Wilson & Co.\", \"Ed Wilson\"}, \"Thingamabob\", 290}\n",
    "};\n",
    "```"
   ]
  },
  {
   "cell_type": "code",
   "execution_count": null,
   "id": "55cd2304-cfb3-47c1-b4dc-caf2e2f06f3f",
   "metadata": {},
   "outputs": [],
   "source": [
    "# KAHOOT 11-13"
   ]
  },
  {
   "cell_type": "markdown",
   "id": "d7e90663-5d9b-4019-8a06-512f160d0763",
   "metadata": {},
   "source": [
    "# Part 2 More Examples"
   ]
  },
  {
   "cell_type": "markdown",
   "id": "fb066678-2a0e-49dc-bd01-16a8b9e59b3c",
   "metadata": {},
   "source": [
    "## Accessing Values"
   ]
  },
  {
   "cell_type": "code",
   "execution_count": 47,
   "id": "d1daff81-6073-4ab8-9a5e-70e945aa857b",
   "metadata": {},
   "outputs": [
    {
     "name": "stdout",
     "output_type": "stream",
     "text": [
      "My balance is: 0.00\n",
      "My balance is: 99.50\n"
     ]
    }
   ],
   "source": [
    "#include <stdio.h>\n",
    "struct bankRecordStruct\n",
    "{\n",
    "    // You can use mixed data types\n",
    "    char name[50];\n",
    "    float balance;\n",
    "};\n",
    "\n",
    "struct bankRecordStruct billsAcc;\n",
    "\n",
    "int main()\n",
    "{    \n",
    "    printf(\"My balance is: %.2f\\n\", billsAcc.balance);\n",
    "\n",
    "    float bal = billsAcc.balance;\n",
    "    bal = 99.50;\n",
    "\n",
    "    printf(\"My balance is: %.2f\\n\", bal);\n",
    "}"
   ]
  },
  {
   "cell_type": "markdown",
   "id": "fffb6d6b-89f2-4d13-89ac-0a7a155e313c",
   "metadata": {},
   "source": [
    "## Copy Struct using Equal Sign (=)"
   ]
  },
  {
   "cell_type": "code",
   "execution_count": null,
   "id": "758c42e5-19f3-4ca3-9a16-269dbb14c593",
   "metadata": {},
   "outputs": [],
   "source": [
    "#include <stdio.h>\n",
    "\n",
    "struct Box\n",
    "{\n",
    "    int width, length, height;\n",
    "};\n",
    "\n",
    "int main()\n",
    "{\n",
    "    struct Box b, c;\n",
    "\n",
    "    b.width = 5;\n",
    "    b.length = 1;\n",
    "    b.height = 2;\n",
    "\n",
    "    c = b;\n",
    "\n",
    "    printf(\"% d % d % d\\n\", c.width, c.length, c.height);\n",
    "}"
   ]
  },
  {
   "cell_type": "markdown",
   "id": "20ea8bf3-aca0-4957-a7bb-e78d80456c3a",
   "metadata": {},
   "source": [
    "## Using Structs in Functions"
   ]
  },
  {
   "cell_type": "code",
   "execution_count": 49,
   "id": "047a1ca2-d3c1-451d-a836-3f3e838a85dc",
   "metadata": {},
   "outputs": [
    {
     "name": "stdout",
     "output_type": "stream",
     "text": [
      "Enter the box dimensions (width length height): Box volume volume= 1838084360\n"
     ]
    }
   ],
   "source": [
    "#include <stdio.h>\n",
    "#include <math.h>\n",
    "struct Box\n",
    "{\n",
    "    int width, height, length;\n",
    "};\n",
    "\n",
    "int GetVolume(struct Box b)\n",
    "{\n",
    "    return b.width * b.height * b.length;\n",
    "};\n",
    "\n",
    "int main()\n",
    "{\n",
    "    struct Box b;\n",
    "\n",
    "    printf(\"Enter the box dimensions (width length height): \");\n",
    "\n",
    "    scanf(\"%d %d %d\", &b.width, &b.length, &b.height);\n",
    "\n",
    "    printf(\"Box volume volume= %d\\n\", GetVolume(b));\n",
    "}"
   ]
  },
  {
   "cell_type": "markdown",
   "id": "f6832777-c413-43fe-9459-4c0b09a41be2",
   "metadata": {},
   "source": [
    "## Note: == Comparison Doesn’t Work"
   ]
  },
  {
   "cell_type": "code",
   "execution_count": 50,
   "id": "1460aa84-6704-4d01-8666-3abc55c4a4b1",
   "metadata": {},
   "outputs": [
    {
     "name": "stderr",
     "output_type": "stream",
     "text": [
      "/var/folders/_t/t4trkbmn3l14mnw5_vfn_6pm0000gn/T/tmp0jygjhin.c:16:11: error: invalid operands to binary expression ('struct Box' and 'struct Box')\n",
      "   16 |     if (c == b) /* Error when you compile! */\n",
      "      |         ~ ^  ~\n",
      "1 error generated.\n",
      "[C kernel] GCC exited with code 1, the executable will not be executed"
     ]
    }
   ],
   "source": [
    "#include <stdio.h>\n",
    "\n",
    "struct Box\n",
    "{\n",
    "    int width, length, height;\n",
    "};\n",
    "\n",
    "int main()\n",
    "{\n",
    "    struct Box b, c;\n",
    "    b.width = 5;\n",
    "    b.length = 1;\n",
    "    b.height = 2;\n",
    "\n",
    "    c = b;\n",
    "    if (c == b) /* Error when you compile! */\n",
    "\n",
    "        printf(\"c and b are identical\\n\");\n",
    "    else\n",
    "        printf(\"c and b arec and b are different\\n\");\n",
    "}\n",
    "\n",
    "// Error message: invalid operands to binary == ('struct Box' and 'struct Box')"
   ]
  },
  {
   "cell_type": "code",
   "execution_count": null,
   "id": "fea3479f-61af-4413-a30f-02e43a2ad7be",
   "metadata": {},
   "outputs": [],
   "source": [
    "## Create your own equality test"
   ]
  },
  {
   "cell_type": "code",
   "execution_count": 51,
   "id": "d07d5ca3-3ea5-4c5a-a239-390d7e136b09",
   "metadata": {},
   "outputs": [
    {
     "name": "stdout",
     "output_type": "stream",
     "text": [
      "c and b are identical\n"
     ]
    }
   ],
   "source": [
    "#include <stdio.h>\n",
    "#include <math.h>\n",
    "\n",
    "struct Box\n",
    "{\n",
    "    int width, height, length;\n",
    "};\n",
    "\n",
    "int IsEqual(struct Box b, struct Box c)\n",
    "{\n",
    "    if (b.width == c.width && b.length == c.length && b.height == c.height)\n",
    "        return 1;\n",
    "    else\n",
    "        return 0;\n",
    "}\n",
    "\n",
    "int main()\n",
    "{\n",
    "    struct Box b, c;\n",
    "\n",
    "    b.width = 5;\n",
    "    b.length = 1;\n",
    "    b.height = 2;\n",
    "\n",
    "    c = b;\n",
    "\n",
    "    if (IsEqual(b, c))\n",
    "        printf(\"c and b are identical\\n\");\n",
    "    else\n",
    "        printf(\"c and b are different\\n\");\n",
    "}"
   ]
  },
  {
   "cell_type": "markdown",
   "id": "5ab715a2-98dd-4350-84b4-854da93eabbf",
   "metadata": {},
   "source": [
    "## Size of a Struct: sizeof"
   ]
  },
  {
   "cell_type": "code",
   "execution_count": 54,
   "id": "444c77d2-9b0c-499d-b2b5-2a789f026b55",
   "metadata": {},
   "outputs": [
    {
     "name": "stdout",
     "output_type": "stream",
     "text": [
      "Size of Circle struct is 32\n"
     ]
    }
   ],
   "source": [
    "#include <stdio.h>\n",
    "#include <math.h>\n",
    "\n",
    "typedef struct\n",
    "{\n",
    "    double radius; /* 8 bytes */\n",
    "    int x;         /* 4 bytes */\n",
    "    int y;         /* 4 bytes */\n",
    "    char name[10]; /* 10 bytes */\n",
    "} Circle;\n",
    "\n",
    "int main()\n",
    "{\n",
    "    printf(\"Size of Circle struct is %ld\\n\", sizeof(Circle));\n",
    "}"
   ]
  },
  {
   "cell_type": "markdown",
   "id": "0a94b8d1-78c3-4b87-acb0-1bb11d625cb1",
   "metadata": {},
   "source": [
    "### Size of a Struct 8 + 4 + 4 + 10 = 26\n",
    "\n",
    "- But sizeof() reports **28 bytes** or **32 bytes**!!! (depends on machine)\n",
    "\n",
    "Most machines require alignment on 4 byte boundary  (a word)\n",
    "\n",
    "- last word is not filled by the char (2 bytes used, 2 left over)\n",
    "\n",
    "## Internal Padding\n",
    "\n",
    "![alt text](./internal-padding.png \"Internal Padding\")"
   ]
  }
 ],
 "metadata": {
  "kernelspec": {
   "display_name": "C",
   "language": "c",
   "name": "c"
  },
  "language_info": {
   "file_extension": ".c",
   "mimetype": "text/plain",
   "name": "c"
  }
 },
 "nbformat": 4,
 "nbformat_minor": 5
}
